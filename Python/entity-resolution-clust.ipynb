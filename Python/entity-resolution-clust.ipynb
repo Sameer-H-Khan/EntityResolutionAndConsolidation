{
 "cells": [
  {
   "cell_type": "code",
   "execution_count": 1,
   "metadata": {},
   "outputs": [
    {
     "name": "stderr",
     "output_type": "stream",
     "text": [
      "c:\\Users\\khans\\miniconda3\\envs\\managedata\\Lib\\site-packages\\tqdm\\auto.py:21: TqdmWarning: IProgress not found. Please update jupyter and ipywidgets. See https://ipywidgets.readthedocs.io/en/stable/user_install.html\n",
      "  from .autonotebook import tqdm as notebook_tqdm\n"
     ]
    }
   ],
   "source": [
    "import pandas as pd\n",
    "import numpy as np\n",
    "import matplotlib.pyplot as plt\n",
    "import re\n",
    "from sentence_transformers import SentenceTransformer, util\n",
    "from sklearn.metrics.pairwise import cosine_similarity\n",
    "from sklearn.cluster import DBSCAN, AgglomerativeClustering"
   ]
  },
  {
   "cell_type": "code",
   "execution_count": 2,
   "metadata": {},
   "outputs": [],
   "source": [
    "df = pd.read_csv('../data/book.tsv', sep='\\t', header=None)\n",
    "df = df.dropna(subset=[df.columns[3]])\n",
    "df = df.reset_index(drop=True)\n",
    "\n",
    "authors = df.iloc[:, 3]\n",
    "\n",
    "model = SentenceTransformer('paraphrase-MiniLM-L6-v2')\n",
    "\n",
    "# Uncomment this line to recreate embeddings\n",
    "# author_embeddings = [model.encode(author) for author in authors]\n",
    "\n",
    "# Comment this line if creating embeddings for the first time\n",
    "author_embeddings = np.load('embeddings/author_embeddings.npy')"
   ]
  },
  {
   "cell_type": "code",
   "execution_count": 3,
   "metadata": {},
   "outputs": [],
   "source": [
    "np.save('embeddings/author_embeddings.npy', author_embeddings)"
   ]
  },
  {
   "cell_type": "code",
   "execution_count": 4,
   "metadata": {},
   "outputs": [
    {
     "name": "stdout",
     "output_type": "stream",
     "text": [
      "(33246, 33246)\n"
     ]
    }
   ],
   "source": [
    "cosine_similarities = cosine_similarity(author_embeddings)\n",
    "print(cosine_similarities.shape)"
   ]
  },
  {
   "cell_type": "code",
   "execution_count": 5,
   "metadata": {},
   "outputs": [],
   "source": [
    "# Brute force approach: Group together all indices where cosine similarity is > 0.8\n",
    "# undirected_graph = {} \n",
    "# for i in range(len(cosine_similarities)):\n",
    "#     undirected_graph[i] = []\n",
    "\n",
    "# for i in range(len(cosine_similarities)):\n",
    "#     for j in range(i+1, len(cosine_similarities[0])):\n",
    "#         if cosine_similarities[i][j] > 0.8:\n",
    "#             undirected_graph[i].append(j)\n",
    "#             undirected_graph[j].append(i)\n",
    "\n",
    "# Create a graph where nodes are indices of the authors, and edges\n",
    "# are added if the author embeddigns have a cosine similarity score\n",
    "# above 0.8. Create both an undirected graph and a directed graph\n",
    "row_indices, col_indices = np.where(cosine_similarities > 0.8)\n",
    "\n",
    "groups = {}\n",
    "undirected_graph = {} \n",
    "\n",
    "# Iterate over unique row indices\n",
    "for i in np.unique(row_indices):\n",
    "    # Find the column indices where cosine_similarities > 0.8 for this row\n",
    "    relevant_cols = col_indices[row_indices == i]\n",
    "\n",
    "    if i not in undirected_graph:\n",
    "        undirected_graph[i] = []\n",
    "    undirected_graph[i].extend(relevant_cols.tolist())\n",
    "\n",
    "    for col in relevant_cols:\n",
    "        if col not in undirected_graph:\n",
    "            undirected_graph[col] = []\n",
    "        undirected_graph[col].append(i)\n",
    "    \n",
    "    # Store relevant column indices in groups\n",
    "    groups[i] = relevant_cols.tolist()\n",
    "\n",
    "# Convert the lists to sets to remove duplicates in the undirected graph\n",
    "for key in undirected_graph:\n",
    "    undirected_graph[key] = list(set(undirected_graph[key]))\n",
    "\n",
    "for i in range(len(df)):\n",
    "    if i not in groups:\n",
    "        groups[i] = []\n",
    "    if i not in undirected_graph:\n",
    "        undirected_graph[i] = [i]"
   ]
  },
  {
   "cell_type": "code",
   "execution_count": 6,
   "metadata": {},
   "outputs": [],
   "source": [
    "# Find the components of the graph. Our transformer approach says that all entities\n",
    "# in a component are the same entity\n",
    "graph = groups.copy()\n",
    "clusters = []\n",
    "visited = set()\n",
    "\n",
    "def dfs(v, curr_cluster):\n",
    "    visited.add(v)\n",
    "    curr_cluster.append(v)\n",
    "    for w in graph[v]:\n",
    "        if w not in visited:\n",
    "            dfs(w, curr_cluster)\n",
    "\n",
    "for node in graph:\n",
    "    if node not in visited:\n",
    "        cluster = []\n",
    "        dfs(node, cluster)\n",
    "        clusters.append(cluster)\n",
    "\n",
    "# print(clusters)"
   ]
  },
  {
   "cell_type": "code",
   "execution_count": 7,
   "metadata": {},
   "outputs": [],
   "source": [
    "# Output the components to a text file. This way we can look at what authors\n",
    "# are grouped together at a glance\n",
    "with open('../outputs/clusters.txt', 'w') as f:\n",
    "    for clus in clusters:\n",
    "        f.write('[')\n",
    "        for idx in clus:\n",
    "            f.write(f'{authors.iloc[idx]}; ')\n",
    "        f.write(']\\n\\n')"
   ]
  },
  {
   "cell_type": "code",
   "execution_count": 8,
   "metadata": {},
   "outputs": [
    {
     "name": "stdout",
     "output_type": "stream",
     "text": [
      "1877\n",
      "Number of unique values in 'isbn' column: 876\n"
     ]
    }
   ],
   "source": [
    "print(len(clusters))\n",
    "unique_values_count = df.iloc[:, 0].nunique()\n",
    "print(\"Number of unique values in 'isbn' column:\", unique_values_count)"
   ]
  },
  {
   "cell_type": "markdown",
   "metadata": {},
   "source": [
    "## This is the testing phase for the \"authors\" list. First, we find precision, recall, and MCC score exactly how the paper describes. Then, we do some exploratory work that was not done in the paper, which involves looking at how many unique strings there are per ISBN after entity resolution/consolidation. "
   ]
  },
  {
   "cell_type": "code",
   "execution_count": null,
   "metadata": {},
   "outputs": [],
   "source": [
    "########## Find precision and recall: start by identifying true positives and negatives ##########\n",
    "np.random.seed(10)\n",
    "same_second_col = []\n",
    "diff_second_col = []\n",
    "\n",
    "# Create a dictionary where keys are the unique values in the second column,\n",
    "# and values are the corresponding rows\n",
    "groups = {k: v for k, v in df.groupby(df.iloc[:, 1])}\n",
    "\n",
    "for key, group in groups.items():\n",
    "    # Get all possible pairs within each group\n",
    "    pairs = list(zip(group.index, [key]*len(group), group.iloc[:, 3], group.index[1:], group.iloc[:, 3][1:]))\n",
    "    same_second_col.extend(pairs)\n",
    "\n",
    "# Shuffle the pairs to ensure randomness\n",
    "np.random.shuffle(same_second_col)\n",
    "\n",
    "# Get only the first 500 pairs\n",
    "same_second_col = same_second_col[:500]\n",
    "\n",
    "# For getting pairs with different second column values\n",
    "while len(diff_second_col) < 500:\n",
    "    # Randomly select two groups\n",
    "    group1, group2 = np.random.choice(list(groups.keys()), 2, replace=False)\n",
    "    if len(groups[group1]) > 0 and len(groups[group2]) > 0:\n",
    "        # Randomly select one row from each group\n",
    "        row1 = groups[group1].iloc[:, 3].sample(1)\n",
    "        row2 = groups[group2].iloc[:, 3].sample(1)\n",
    "        diff_second_col.append((row1.index[0], group1, row1.values[0], row2.index[0], group2, row2.values[0]))\n",
    "\n",
    "# print(\"Pairs with same second column value: \", same_second_col)\n",
    "# print(\"Pairs with different second column value: \", diff_second_col)"
   ]
  },
  {
   "cell_type": "code",
   "execution_count": 10,
   "metadata": {},
   "outputs": [
    {
     "name": "stdout",
     "output_type": "stream",
     "text": [
      "Precision: 1.0\n",
      "Recall: 0.848\n",
      "MCC: 0.8579691784155833\n"
     ]
    }
   ],
   "source": [
    "############# Find True/False Positives, True/False negatives #############\n",
    "############# Then output precision, recall, and mcc as defined in the paper #############\n",
    "\n",
    "# graph = groups.copy()\n",
    "# clusters = []\n",
    "# visited = set()\n",
    "\n",
    "# see if there's a path from start to target\n",
    "def can_reach(start, target, visited, graph):\n",
    "    if visited is None:\n",
    "        visited = set()\n",
    "    visited.add(start)\n",
    "    if start == target:\n",
    "        return True\n",
    "    for w in graph[start]:\n",
    "        if w not in visited:\n",
    "            if can_reach(w, target, visited, graph):\n",
    "                return True\n",
    "    return False\n",
    "\n",
    "tp = fp = tn = fn = 0\n",
    "for row_idx1, isbn, author1, row_idx2, author2 in same_second_col:\n",
    "    if can_reach(row_idx1, row_idx2, set(), undirected_graph):\n",
    "        tp += 1\n",
    "    else:\n",
    "        fn +=1 \n",
    "\n",
    "for row_idx1, isbn1, author1, row_idx2, isbn2, author2 in diff_second_col:\n",
    "    if can_reach(row_idx1, row_idx2, set(), undirected_graph):\n",
    "        print(f'false positive: isbn1/author1: {isbn1}, {author1}\\tisbn2/author2: {isbn2}, {author2}')\n",
    "        fp += 1\n",
    "    else:\n",
    "        tn +=1\n",
    "\n",
    "precision = tp/(tp + fp)\n",
    "recall = tp/(tp + fn)\n",
    "mcc = (tp*tn - fp*fn) / (np.sqrt(\n",
    "    (tp + fp)*(tp+fn)*(tn+fp)*(tn+fn)\n",
    "))\n",
    "\n",
    "print(f'Precision: {precision}')\n",
    "print(f'Recall: {recall}')\n",
    "print(f'MCC: {mcc}')"
   ]
  },
  {
   "cell_type": "code",
   "execution_count": 11,
   "metadata": {},
   "outputs": [],
   "source": [
    "# For now, set the golden entity to be the string with the longest length in the cluster\n",
    "df_cleaned = df.copy(deep=True)\n",
    "\n",
    "longest_authors = []\n",
    "\n",
    "for cluster in clusters:\n",
    "    cluster_strings = authors.iloc[cluster]\n",
    "    longest_author = max(cluster_strings, key=len)\n",
    "    longest_authors.append(longest_author)\n",
    "    # print(f'{cluster_strings}\\nLongest author: {longest_author}\\n#######################\\n')\n",
    "    for clust_idx in cluster:\n",
    "        df_cleaned.iloc[clust_idx, 3] = longest_author\n",
    "\n",
    "# Output DataFrame to a TSV file\n",
    "output_file = '../outputs/cleaned-book.tsv'\n",
    "df_cleaned.to_csv(output_file, sep='\\t', index=False)"
   ]
  },
  {
   "cell_type": "code",
   "execution_count": 12,
   "metadata": {},
   "outputs": [
    {
     "name": "stdout",
     "output_type": "stream",
     "text": [
      "1\n",
      "0023606924       4\n",
      "0080439977       5\n",
      "0120121484       3\n",
      "0120121506       3\n",
      "0120121514       3\n",
      "                ..\n",
      "9780078204616    2\n",
      "9780078216770    2\n",
      "9780078227813    2\n",
      "9780079136787    5\n",
      "9780335216369    2\n",
      "Name: 3, Length: 1263, dtype: int64\n"
     ]
    }
   ],
   "source": [
    "#### For each ISBN, count the number of unique authors ####\n",
    "result = df_cleaned.groupby(1)[3].nunique()\n",
    "print(result)\n",
    "result.to_csv('result.tsv', sep='\\t', index=True)\n"
   ]
  },
  {
   "cell_type": "code",
   "execution_count": 13,
   "metadata": {},
   "outputs": [
    {
     "name": "stdout",
     "output_type": "stream",
     "text": [
      "10\n"
     ]
    },
    {
     "data": {
      "image/png": "[encoded data removed]",
      "text/plain": [
       "<Figure size 640x480 with 1 Axes>"
      ]
     },
     "metadata": {},
     "output_type": "display_data"
    },
    {
     "name": "stdout",
     "output_type": "stream",
     "text": [
      "mean:  2.0427553444180524\n",
      "median:  2.0\n",
      "std:  1.1895248060401993\n",
      "1st quartile:  1.0\n",
      "3rd quartile:  3.0\n"
     ]
    }
   ],
   "source": [
    "# print(result.iloc[1])\n",
    "print(result.max())\n",
    "n_bins = result.max()\n",
    "n, bins, patches = plt.hist(result, bins=n_bins, edgecolor='black') \n",
    "plt.xlabel('Values')\n",
    "plt.ylabel('Frequency')\n",
    "plt.title('Number of unique fields per cluster after grouping')\n",
    "# Calculate centers of each bin\n",
    "bin_centers = 0.5 * (bins[:-1] + bins[1:])\n",
    "# Set x-axis ticks to the calculated bin centers\n",
    "plt.xticks(bin_centers, range(1, n_bins+1))\n",
    "plt.show()\n",
    "\n",
    "print('mean: ', result.mean())\n",
    "print('median: ', result.median())\n",
    "print('std: ', result.std())\n",
    "print('1st quartile: ', result.quantile(0.25))\n",
    "print('3rd quartile: ', result.quantile(0.75))"
   ]
  },
  {
   "cell_type": "code",
   "execution_count": 14,
   "metadata": {},
   "outputs": [
    {
     "name": "stdout",
     "output_type": "stream",
     "text": [
      "29\n"
     ]
    },
    {
     "data": {
      "image/png": "[encoded data removed]",
      "text/plain": [
       "<Figure size 1000x600 with 1 Axes>"
      ]
     },
     "metadata": {},
     "output_type": "display_data"
    },
    {
     "name": "stdout",
     "output_type": "stream",
     "text": [
      "mean:  8.80443388756928\n",
      "median:  7.0\n",
      "std:  5.103422857019719\n",
      "1st quartile:  5.0\n",
      "3rd quartile:  12.0\n"
     ]
    }
   ],
   "source": [
    "old_df = df.groupby(1)[3].nunique()\n",
    "\n",
    "print(old_df.max())\n",
    "n_bins = old_df.max()\n",
    "plt.figure(figsize=(10, 6))\n",
    "n, bins, patches = plt.hist(old_df, bins=n_bins,edgecolor='black') \n",
    "plt.xlabel('Values')\n",
    "plt.ylabel('Frequency')\n",
    "plt.title('Number of unique fields per cluster before grouping')\n",
    "# Calculate centers of each bin\n",
    "bin_centers = 0.5 * (bins[:-1] + bins[1:])\n",
    "# Set x-axis ticks to the calculated bin centers\n",
    "plt.xticks(bin_centers, range(1, n_bins+1))\n",
    "plt.show()\n",
    "\n",
    "print('mean: ', old_df.mean())\n",
    "print('median: ', old_df.median())\n",
    "print('std: ', old_df.std())\n",
    "print('1st quartile: ', old_df.quantile(0.25))\n",
    "print('3rd quartile: ', old_df.quantile(0.75))"
   ]
  },
  {
   "cell_type": "markdown",
   "metadata": {},
   "source": [
    "#### We can see that grouping the authors using the pre-trained transformer approach did help, but there are still some ISBNs with more than one unique author. The result.tsv file shows us the unique author counts for each ISBN number. We can look at the ISBNs with high unique author counts in the original dataset and find some problematic fields that are difficult for the pre-trained transformer model to resolve. Such author fields often leave out the authors first name, abbreviate several authors into et al., or have otherwise dirty data with excess words like \"author\", \"editor\", \"by\", etc. "
   ]
  },
  {
   "cell_type": "code",
   "execution_count": 15,
   "metadata": {},
   "outputs": [
    {
     "name": "stdout",
     "output_type": "stream",
     "text": [
      "Authors filtered length: 30115\n",
      "1\n",
      "0023606924       3\n",
      "0080439977       2\n",
      "0120121484       2\n",
      "0120121506       3\n",
      "0120121514       2\n",
      "                ..\n",
      "9780078204616    2\n",
      "9780078216770    1\n",
      "9780078227813    2\n",
      "9780079136787    2\n",
      "9780335216369    2\n",
      "Name: 3, Length: 1261, dtype: int64\n",
      "6\n"
     ]
    },
    {
     "data": {
      "image/png": "[encoded data removed]",
      "text/plain": [
       "<Figure size 640x480 with 1 Axes>"
      ]
     },
     "metadata": {},
     "output_type": "display_data"
    },
    {
     "name": "stdout",
     "output_type": "stream",
     "text": [
      "mean:  1.6447264076130055\n",
      "median 1.0\n",
      "std:  0.9062557851421786\n",
      "1st quartile:  1.0\n",
      "3rd quartile:  2.0\n"
     ]
    }
   ],
   "source": [
    "### Exploration: How well does this work in cases where there are\n",
    "### no fields where the author is just one name, or several authors\n",
    "### are abbreviated to et al?\n",
    "\n",
    "def remove_substrings(cell):\n",
    "    if isinstance(cell, str):\n",
    "        return re.sub(r'\\b(author|by|edited|editor)\\b', '', cell, flags=re.IGNORECASE)\n",
    "    else:\n",
    "        return cell\n",
    "\n",
    "#### Drop the relevant rows and recreate embeddings + cosine similarity matrix\n",
    "df = df.reset_index(drop=True)\n",
    "df_filtered = df[~((df.iloc[:, 3].str.split().str.len() == 1) | (df.iloc[:, 3].str.contains('et al|et. al')))]\n",
    "df_filtered.iloc[:,3] = df_filtered.iloc[:,3].apply(remove_substrings)\n",
    "authors = df_filtered.iloc[:, 3]\n",
    "\n",
    "print(f'Authors filtered length: {len(authors)}')\n",
    "\n",
    "# author_embeddings_filtered = [model.encode(author) for author in authors]\n",
    "author_embeddings_filtered = np.load('embeddings/author_embeddings_filtered.npy')\n",
    "np.save('embeddings/author_embeddings_filtered.npy', author_embeddings_filtered)\n",
    "\n",
    "cosine_similarities_filtered = cosine_similarity(author_embeddings_filtered)\n",
    "\n",
    "#### Cluster the similar authors\n",
    "row_indices_f, col_indices_f = np.where(cosine_similarities_filtered > 0.8)\n",
    "groups_f = {}\n",
    "# Iterate over unique row indices\n",
    "for i in np.unique(row_indices_f):\n",
    "    # Find the column indices where cosine_similarities > 0.8 for this row\n",
    "    relevant_cols_f = col_indices_f[row_indices_f == i]\n",
    "    \n",
    "    # Store relevant column indices in groups\n",
    "    groups_f[i] = relevant_cols_f.tolist()\n",
    "\n",
    "graph_f = groups_f.copy()\n",
    "clusters_f = []\n",
    "visited_f = set()\n",
    "\n",
    "def dfs_f(v, curr_cluster):\n",
    "    visited_f.add(v)\n",
    "    curr_cluster.append(v)\n",
    "    for w in graph_f[v]:\n",
    "        if w not in visited_f:\n",
    "            dfs_f(w, curr_cluster)\n",
    "\n",
    "for node_f in graph_f:\n",
    "    if node_f not in visited_f:\n",
    "        cluster_f = []\n",
    "        dfs_f(node_f, cluster_f)\n",
    "        clusters_f.append(cluster_f)\n",
    "\n",
    "\n",
    "#### Testing phase ####\n",
    "df_cleaned_f = df_filtered.copy(deep=True)\n",
    "\n",
    "longest_authors_f = []\n",
    "\n",
    "for cluster_f in clusters_f:\n",
    "    cluster_strings_f = authors.iloc[cluster_f]\n",
    "    longest_author_f = max(cluster_strings_f, key=len)\n",
    "    longest_authors_f.append(longest_author_f)\n",
    "    # print(f'{cluster_strings}\\nLongest author: {longest_author}\\n#######################\\n')\n",
    "    for clust_idx in cluster_f:\n",
    "        df_cleaned_f.iloc[clust_idx, 3] = longest_author_f\n",
    "\n",
    "# Output DataFrame to a TSV file\n",
    "output_file_f = '../outputs/cleaned-book-filtered.tsv'\n",
    "df_cleaned_f.to_csv(output_file_f, sep='\\t', index=False)\n",
    "\n",
    "#### For each ISBN, count the number of unique authors ####\n",
    "result_f = df_cleaned_f.groupby(1)[3].nunique()\n",
    "print(result_f)\n",
    "result_f.to_csv('../outputs/result-filtered.tsv', sep='\\t', index=True)\n",
    "\n",
    "print(result_f.max())\n",
    "n_bins = result_f.max()\n",
    "n, bins, patches = plt.hist(result_f, bins=n_bins, edgecolor='black')  # Adjust the number of bins as needed\n",
    "plt.xlabel('Values')\n",
    "plt.ylabel('Frequency')\n",
    "plt.title('Number of unique fields per cluster after grouping (filtered dataset)')\n",
    "# Calculate centers of each bin\n",
    "bin_centers = 0.5 * (bins[:-1] + bins[1:])\n",
    "# Set x-axis ticks to the calculated bin centers\n",
    "plt.xticks(bin_centers, range(1, n_bins+1))\n",
    "plt.show()\n",
    "\n",
    "print('mean: ', result_f.mean())\n",
    "print('median', result_f.median())\n",
    "print('std: ', result_f.std())\n",
    "print('1st quartile: ', result_f.quantile(0.25))\n",
    "print('3rd quartile: ', result_f.quantile(0.75))"
   ]
  },
  {
   "cell_type": "code",
   "execution_count": 16,
   "metadata": {},
   "outputs": [],
   "source": [
    "#######################################################################################\n",
    "#################### Now let's do all this on the titles column!!! ####################\n",
    "#######################################################################################\n",
    "df = pd.read_csv('../data/book.tsv', sep='\\t', header=None) # reread the data in case we messed with it\n",
    "df = df.dropna(subset=[df.columns[2]])\n",
    "titles = df.iloc[:, 2]\n",
    "\n",
    "# title_embeddings = [model.encode(title) for title in titles]\n",
    "title_embeddings = np.load('embeddings/title_embeddings.npy')\n",
    "# np.save('embeddings/title_embeddings.npy', title_embeddings)"
   ]
  },
  {
   "cell_type": "code",
   "execution_count": 17,
   "metadata": {},
   "outputs": [
    {
     "name": "stdout",
     "output_type": "stream",
     "text": [
      "Number of clusters:  1580\n",
      "Number of unique values in 'isbn' column: 894\n"
     ]
    }
   ],
   "source": [
    "cosine_similarities_titles = cosine_similarity(title_embeddings)\n",
    "\n",
    "# Construct the graph\n",
    "row_indices, col_indices = np.where(cosine_similarities_titles > 0.8)\n",
    "groups = {}\n",
    "# Iterate over unique row indices\n",
    "for i in np.unique(row_indices):\n",
    "    # Find the column indices where cosine_similarities > 0.8 for this row\n",
    "    relevant_cols = col_indices[row_indices == i]\n",
    "    \n",
    "    # Store relevant column indices in groups\n",
    "    groups[i] = relevant_cols.tolist()\n",
    "\n",
    "# Find the clusers \n",
    "graph = groups.copy()\n",
    "clusters = []\n",
    "visited = set()\n",
    "\n",
    "def dfs(v, curr_cluster):\n",
    "    visited.add(v)\n",
    "    curr_cluster.append(v)\n",
    "    for w in graph[v]:\n",
    "        if w not in visited:\n",
    "            dfs(w, curr_cluster)\n",
    "\n",
    "for node in graph:\n",
    "    if node not in visited:\n",
    "        cluster = []\n",
    "        dfs(node, cluster)\n",
    "        clusters.append(cluster)\n",
    "\n",
    "with open('../outputs/clusters-titles.txt', 'w') as f:\n",
    "    for clus in clusters:\n",
    "        f.write('[')\n",
    "        for idx in clus:\n",
    "            f.write(f'{titles.iloc[idx]}; ')\n",
    "        f.write(']\\n\\n')\n",
    "\n",
    "print('Number of clusters: ', len(clusters))\n",
    "unique_values_count = df.iloc[:, 0].nunique()\n",
    "print(\"Number of unique values in 'isbn' column:\", unique_values_count)\n",
    "\n"
   ]
  },
  {
   "cell_type": "code",
   "execution_count": 18,
   "metadata": {},
   "outputs": [
    {
     "name": "stdout",
     "output_type": "stream",
     "text": [
      "1\n",
      "0023606924       2\n",
      "0080439977       3\n",
      "0120121484       3\n",
      "0120121506       4\n",
      "0120121514       2\n",
      "                ..\n",
      "9780078204616    3\n",
      "9780078216770    2\n",
      "9780078227813    3\n",
      "9780079136787    3\n",
      "9780335216369    1\n",
      "Name: 2, Length: 1265, dtype: int64\n",
      "6\n"
     ]
    },
    {
     "data": {
      "image/png": "[encoded data removed]",
      "text/plain": [
       "<Figure size 640x480 with 1 Axes>"
      ]
     },
     "metadata": {},
     "output_type": "display_data"
    },
    {
     "name": "stdout",
     "output_type": "stream",
     "text": [
      "mean:  1.8474308300395257\n",
      "median:  2.0\n",
      "std:  1.0084901258897467\n",
      "1st quartile:  1.0\n",
      "3rd quartile:  2.0\n"
     ]
    }
   ],
   "source": [
    "#### Testing phase ####\n",
    "# For now, set the golden entity to be the string with the longest length in the cluster\n",
    "df_cleaned = df.copy(deep=True)\n",
    "\n",
    "longest_titles = []\n",
    "\n",
    "for cluster in clusters:\n",
    "    cluster_strings = titles.iloc[cluster]\n",
    "    longest_title = max(cluster_strings, key=len)\n",
    "    longest_titles.append(longest_title)\n",
    "    for clust_idx in cluster:\n",
    "        df_cleaned.iloc[clust_idx, 2] = longest_title\n",
    "\n",
    "# Output DataFrame to a TSV file\n",
    "output_file = '../outputs/cleaned-book-titles.tsv'\n",
    "df_cleaned.to_csv(output_file, sep='\\t', index=False)\n",
    "\n",
    "#### For each ISBN, count the number of unique titles ####\n",
    "result = df_cleaned.groupby(1)[2].nunique()\n",
    "print(result)\n",
    "result.to_csv('../outputs/result-titles.tsv', sep='\\t', index=True)\n",
    "\n",
    "# print(result.iloc[1])\n",
    "print(result.max())\n",
    "n_bins = result.max()\n",
    "n, bins, patches = plt.hist(result, bins=n_bins, edgecolor='black') \n",
    "plt.xlabel('Values')\n",
    "plt.ylabel('Frequency')\n",
    "plt.title('Number of unique fields per cluster after grouping')\n",
    "# Calculate centers of each bin\n",
    "bin_centers = 0.5 * (bins[:-1] + bins[1:])\n",
    "# Set x-axis ticks to the calculated bin centers\n",
    "plt.xticks(bin_centers, range(1, n_bins+1))\n",
    "plt.show()\n",
    "\n",
    "print('mean: ', result.mean())\n",
    "print('median: ', result.median())\n",
    "print('std: ', result.std())\n",
    "print('1st quartile: ', result.quantile(0.25))\n",
    "print('3rd quartile: ', result.quantile(0.75))"
   ]
  },
  {
   "cell_type": "code",
   "execution_count": 19,
   "metadata": {},
   "outputs": [
    {
     "name": "stdout",
     "output_type": "stream",
     "text": [
      "30\n"
     ]
    },
    {
     "data": {
      "image/png": "[encoded data removed]",
      "text/plain": [
       "<Figure size 1000x600 with 1 Axes>"
      ]
     },
     "metadata": {},
     "output_type": "display_data"
    },
    {
     "name": "stdout",
     "output_type": "stream",
     "text": [
      "mean:  8.988142292490119\n",
      "median:  8.0\n",
      "std:  4.58454528672867\n",
      "1st quartile:  6.0\n",
      "3rd quartile:  11.0\n"
     ]
    }
   ],
   "source": [
    "old_df = df.groupby(1)[2].nunique()\n",
    "\n",
    "print(old_df.max())\n",
    "n_bins = old_df.max()\n",
    "plt.figure(figsize=(10, 6))\n",
    "n, bins, patches = plt.hist(old_df, bins=n_bins,edgecolor='black') \n",
    "plt.xlabel('Values')\n",
    "plt.ylabel('Frequency')\n",
    "plt.title('Number of unique fields per cluster before grouping')\n",
    "# Calculate centers of each bin\n",
    "bin_centers = 0.5 * (bins[:-1] + bins[1:])\n",
    "# Set x-axis ticks to the calculated bin centers\n",
    "plt.xticks(bin_centers, range(1, n_bins+1))\n",
    "plt.show()\n",
    "\n",
    "print('mean: ', old_df.mean())\n",
    "print('median: ', old_df.median())\n",
    "print('std: ', old_df.std())\n",
    "print('1st quartile: ', old_df.quantile(0.25))\n",
    "print('3rd quartile: ', old_df.quantile(0.75))"
   ]
  }
 ],
 "metadata": {
  "kernelspec": {
   "display_name": "managedata",
   "language": "python",
   "name": "python3"
  },
  "language_info": {
   "codemirror_mode": {
    "name": "ipython",
    "version": 3
   },
   "file_extension": ".py",
   "mimetype": "text/x-python",
   "name": "python",
   "nbconvert_exporter": "python",
   "pygments_lexer": "ipython3",
   "version": "3.12.1"
  }
 },
 "nbformat": 4,
 "nbformat_minor": 2
}
