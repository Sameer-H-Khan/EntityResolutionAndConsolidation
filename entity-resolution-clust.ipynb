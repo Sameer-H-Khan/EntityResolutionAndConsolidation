{
 "cells": [
  {
   "cell_type": "code",
   "execution_count": 2,
   "metadata": {},
   "outputs": [],
   "source": [
    "import pandas as pd\n",
    "import numpy as np\n",
    "from sentence_transformers import SentenceTransformer, util\n",
    "from sklearn.metrics.pairwise import cosine_similarity\n",
    "from sklearn.cluster import DBSCAN, AgglomerativeClustering"
   ]
  },
  {
   "cell_type": "code",
   "execution_count": 8,
   "metadata": {},
   "outputs": [],
   "source": [
    "df = pd.read_csv('book.tsv', sep='\\t', header=None)\n",
    "source = df.iloc[:, 3]\n",
    "source = source.dropna()\n",
    "# authors = source[145:165]\n",
    "# authors = pd.concat([authors, source[420:440]]) \n",
    "authors = source[:5000]\n",
    "\n",
    "model = SentenceTransformer('paraphrase-MiniLM-L6-v2')\n",
    "author_embeddings = [model.encode(author) for author in authors]"
   ]
  },
  {
   "cell_type": "code",
   "execution_count": 9,
   "metadata": {},
   "outputs": [
    {
     "name": "stdout",
     "output_type": "stream",
     "text": [
      "(5000, 5000)\n"
     ]
    }
   ],
   "source": [
    "cosine_similarities = cosine_similarity(author_embeddings)\n",
    "print(cosine_similarities.shape)"
   ]
  },
  {
   "cell_type": "code",
   "execution_count": 15,
   "metadata": {},
   "outputs": [
    {
     "name": "stdout",
     "output_type": "stream",
     "text": [
      "[[1.0000001  0.13771227 0.13771227 ... 0.0793032  0.06516084 0.06516084]\n",
      " [0.13771227 0.99999976 0.99999976 ... 0.24057013 0.27983385 0.27983385]\n",
      " [0.13771227 0.99999976 0.99999976 ... 0.24057013 0.27983385 0.27983385]\n",
      " ...\n",
      " [0.0793032  0.24057013 0.24057013 ... 1.0000002  0.95719796 0.95719796]\n",
      " [0.06516084 0.27983385 0.27983385 ... 0.95719796 1.0000001  1.0000001 ]\n",
      " [0.06516084 0.27983385 0.27983385 ... 0.95719796 1.0000001  1.0000001 ]]\n",
      "[[0.00000000e+00 8.62287730e-01 8.62287730e-01 ... 9.20696802e-01\n",
      "  9.34839159e-01 9.34839159e-01]\n",
      " [8.62287730e-01 2.38418579e-07 2.38418579e-07 ... 7.59429872e-01\n",
      "  7.20166147e-01 7.20166147e-01]\n",
      " [8.62287730e-01 2.38418579e-07 2.38418579e-07 ... 7.59429872e-01\n",
      "  7.20166147e-01 7.20166147e-01]\n",
      " ...\n",
      " [9.20696802e-01 7.59429872e-01 7.59429872e-01 ... 0.00000000e+00\n",
      "  4.28020358e-02 4.28020358e-02]\n",
      " [9.34839159e-01 7.20166147e-01 7.20166147e-01 ... 4.28020358e-02\n",
      "  0.00000000e+00 0.00000000e+00]\n",
      " [9.34839159e-01 7.20166147e-01 7.20166147e-01 ... 4.28020358e-02\n",
      "  0.00000000e+00 0.00000000e+00]]\n",
      "0                Not Available\n",
      "1             Knuth, Donald E.\n",
      "3             Knuth, Donald E.\n",
      "4                        Knuth\n",
      "5           Donald Ervin Knuth\n",
      "                 ...          \n",
      "5105                    Harold\n",
      "5106    Harold, Elliotte Rusty\n",
      "5107    HAROLD, ELLIOTTE RUSTY\n",
      "5108     Harold, Elliote Rusty\n",
      "5109     Harold, Elliote Rusty\n",
      "Name: 3, Length: 5000, dtype: object\n"
     ]
    }
   ],
   "source": [
    "complement = np.ones(cosine_similarities.shape)\n",
    "complement -= cosine_similarities\n",
    "complement = np.maximum(complement, 0)\n",
    "print(cosine_similarities)\n",
    "print(complement)\n",
    "print(authors)"
   ]
  },
  {
   "cell_type": "code",
   "execution_count": 13,
   "metadata": {},
   "outputs": [
    {
     "name": "stdout",
     "output_type": "stream",
     "text": [
      "Harold, Elliote Rusty\n"
     ]
    }
   ],
   "source": [
    "print(authors.iloc[4999])"
   ]
  },
  {
   "cell_type": "code",
   "execution_count": null,
   "metadata": {},
   "outputs": [],
   "source": [
    "clustering = AgglomerativeClustering(n_clusters=None, linkage='complete', distance_threshold=0.3).fit(complement)\n",
    "\n",
    "# Get cluster labels\n",
    "cluster_labels = clustering.labels_\n",
    "print(f'Num clusters: {clustering.n_clusters_}')\n",
    "\n",
    "# Group authors based on cluster labels\n",
    "clustered_authors = {}\n",
    "for i, label in enumerate(cluster_labels):\n",
    "    if label not in clustered_authors:\n",
    "        clustered_authors[label] = []\n",
    "    clustered_authors[label].append(authors.iloc[i])\n",
    "\n",
    "# Print authors in each cluster\n",
    "for cluster, authors_names in clustered_authors.items():\n",
    "    print(f'Cluster {cluster}:')\n",
    "    print(authors_names)"
   ]
  },
  {
   "cell_type": "code",
   "execution_count": 33,
   "metadata": {},
   "outputs": [
    {
     "name": "stdout",
     "output_type": "stream",
     "text": [
      "Cluster labels: [0 0 0 0 0 0 0 0 0 0 0 0 0 0 0 0 0 0 0 0 0 0 0 0 0 0 0 0 0 0 0 0 0 0 0 0 0\n",
      " 0 0 0 0 0 0 0 0 0 0 0 0 0 0 0 0 0 0 0 0 0 0 0 0 0 0 0 0 0 0 0 0 0 0 0 0 0\n",
      " 0 0 0 0 0 0 0 0 0 0 0 0 0 0 0 0 0 0 0 0 0 0 0 0 0 0 0 0 0 0 0 0 0 0 0 0 0\n",
      " 0 0 0 0 0 0 0 0 0 0 0 0 0 0 0 0 0 0 0 0 0 0 0 0 0 0 0 0 0 0 0 0 0 0 0 0 0\n",
      " 0 0 0 0 0 0 0 0 0 0 0 0 0 0 0 0 0 0 0 0 0 0 0 0 0 0 0 0 0 0 0 0 0 0 0 0 0\n",
      " 0 0 0 0 0 0 0 0 0 0 0 0 0 0 0 0 0 0 1 0 0 0 0 0 0 0 0 0 0 0 0 0 0 0 0 0 0\n",
      " 0 0 0 0 0 0 0 0 0 0 0 0 0 0 0 0 0 0 0 0 0 0 0 0 0 0 0 0 0 0 0 0 0 0 0 0 0\n",
      " 0 0 0 0 0 0 0 0 0 0 0 0 0 0 0 0 0 0 0 0 0 0 0 0 0 0 0 0 0 0 0 1 0 0 0 0 0\n",
      " 0 0 0 0 0 0 0 0 0 0 0 0 0 0 0 0 0 0 0 0 0 0 0 0 0 0 0 0 0 0 0 0 0 1 0 0 0\n",
      " 0 0 0 0 0 0 0 0 0 0 0 0 0 0 0 0 0 0 0 0 0 0 0 0 0 0 0 0 0 0 0 0 0 0 0 0 0\n",
      " 0 0 0 0 0 0 0 0 0 0 0 0 0 0 0 0 0 0 0 0 0 0 0 0 0 0 0 0 0 0 0 0 0 0 0 0 0\n",
      " 0 0 0 0 0 0 0 0 0 0 0 0 0 0 0 0 0 0 0 0 0 0 0 0 0 0 0 0 0 0 0 0 0 0 0 0 0\n",
      " 0 0 0 0 0 0 0 0 0 0 0 0 0 0 0 0 0 0 0 0 0 0 0 0 0 0 0 0 0 0 0 0 0 0 0 0 0\n",
      " 0 0 1 0 0 0 0 0 0 0 0 0 0 0 0 0 0 0 0 0 0 0 0 0 0 0 0 0 0 0 0 0 0 0 0 0 0\n",
      " 0 0 0 0 0 0 0 0 0 0 0 0 0 1 0 0 0 0 0 0 0 0 0 0 0 0 0 0 0 0 0 0 0 0 0 0 0\n",
      " 0 0 0 0 0 0 0 0 0 0 0 0 0 0 0 0 0 0 0 0 0 0 0 0 0 0 0 0 0 0 0 0 0 0 0 0 0\n",
      " 0 0 0 0 0 0 0 0 0 0 0 0 0 0 0 0 0 0 0 0 0 0 0 0 0 0 0 0 0 0 0 0 0 0 0 0 0\n",
      " 0 0 0 0 0 0 0 0 0 0 0 0 0 0 0 0 0 0 0 0 0 0 0 0 0 0 0 1 0 0 0 0 0 0 0 0 0\n",
      " 0 0 0 0 0 0 0 0 0 0 0 0 0 0 0 0 0 0 0 0 0 0 0 0 0 0 0 0 0 0 0 0 0 0 0 0 0\n",
      " 0 0 0 0 0 1 0 0 0 0 0 0 0 0 0 0 0 0 0 0 0 0 0 0 0 0 0 0 0 0 0 1 0 0 0 0 0\n",
      " 0 0 0 0 0 0 0 0 0 0 0 0 0 0 0 0 0 0 0 0 0 0 0 0 0 0 0 0 0 0 0 0 0 0 0 0 0\n",
      " 0 0 0 0 0 0 0 0 0 0 0 0 0 0 0 0 0 0 0 0 0 0 0 0 0 0 0 0 0 0 0 0 0 0 0 0 0\n",
      " 0 0 0 0 0 0 0 0 0 0 0 0 0 0 0 0 0 0 0 0 0 0 0 0 0 0 0 0 0 0 0 0 0 0 0 0 0\n",
      " 1 0 0 0 0 0 0 0 0 0 0 0 0 0 0 0 0 0 0 0 0 0 0 0 0 0 0 0 0 0 0 0 0 0 0 0 0\n",
      " 0 0 0 0 0 0 0 0 0 0 0 0]\n"
     ]
    }
   ],
   "source": [
    "# dclustering = DBSCAN(min_samples=1).fit(complement)\n",
    "cosine_similarities = np.maximum(complement, 0)\n",
    "dbscan = DBSCAN(eps=0.5, min_samples=2, metric='precomputed')\n",
    "labels = dbscan.fit_predict(cosine_similarities)\n",
    "\n",
    "# Print the cluster labels\n",
    "print(\"Cluster labels:\", labels[:900])\n"
   ]
  },
  {
   "cell_type": "code",
   "execution_count": null,
   "metadata": {},
   "outputs": [],
   "source": []
  }
 ],
 "metadata": {
  "kernelspec": {
   "display_name": "managedata",
   "language": "python",
   "name": "python3"
  },
  "language_info": {
   "codemirror_mode": {
    "name": "ipython",
    "version": 3
   },
   "file_extension": ".py",
   "mimetype": "text/x-python",
   "name": "python",
   "nbconvert_exporter": "python",
   "pygments_lexer": "ipython3",
   "version": "3.12.1"
  }
 },
 "nbformat": 4,
 "nbformat_minor": 2
}
