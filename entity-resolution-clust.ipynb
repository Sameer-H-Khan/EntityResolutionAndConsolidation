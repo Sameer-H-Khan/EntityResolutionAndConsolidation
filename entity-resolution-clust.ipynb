{
 "cells": [
  {
   "cell_type": "code",
   "execution_count": 1,
   "metadata": {},
   "outputs": [
    {
     "name": "stderr",
     "output_type": "stream",
     "text": [
      "c:\\Users\\khans\\miniconda3\\envs\\managedata\\Lib\\site-packages\\tqdm\\auto.py:21: TqdmWarning: IProgress not found. Please update jupyter and ipywidgets. See https://ipywidgets.readthedocs.io/en/stable/user_install.html\n",
      "  from .autonotebook import tqdm as notebook_tqdm\n"
     ]
    }
   ],
   "source": [
    "import pandas as pd\n",
    "import numpy as np\n",
    "from sentence_transformers import SentenceTransformer, util\n",
    "from sklearn.metrics.pairwise import cosine_similarity\n",
    "from sklearn.cluster import DBSCAN, AgglomerativeClustering"
   ]
  },
  {
   "cell_type": "code",
   "execution_count": 2,
   "metadata": {},
   "outputs": [],
   "source": [
    "df = pd.read_csv('book.tsv', sep='\\t', header=None)\n",
    "# df = pd.read_csv('book-snippet.tsv', sep='\\t', header=None)\n",
    "# df = df.head(5000)\n",
    "df = df.dropna(subset=[df.columns[3]])\n",
    "\n",
    "authors = df.iloc[:, 3]\n",
    "# authors = source[145:165]\n",
    "# authors = pd.concat([authors, source[420:440]]) \n",
    "# authors = source[:5000]\n",
    "# authors = source\n",
    "\n",
    "model = SentenceTransformer('paraphrase-MiniLM-L6-v2')\n",
    "# author_embeddings = [model.encode(author) for author in authors]\n",
    "author_embeddings = np.load('author_embeddings.npy')"
   ]
  },
  {
   "cell_type": "code",
   "execution_count": 3,
   "metadata": {},
   "outputs": [],
   "source": [
    "np.save('author_embeddings.npy', author_embeddings)"
   ]
  },
  {
   "cell_type": "code",
   "execution_count": 4,
   "metadata": {},
   "outputs": [
    {
     "name": "stdout",
     "output_type": "stream",
     "text": [
      "(33246, 33246)\n"
     ]
    }
   ],
   "source": [
    "cosine_similarities = cosine_similarity(author_embeddings)\n",
    "print(cosine_similarities.shape)"
   ]
  },
  {
   "cell_type": "code",
   "execution_count": 5,
   "metadata": {},
   "outputs": [],
   "source": [
    "# complement = np.ones(cosine_similarities.shape)\n",
    "# complement -= cosine_similarities\n",
    "# complement = np.maximum(complement, 0)\n",
    "# print(cosine_similarities)\n",
    "# print(complement)\n",
    "# print(authors)"
   ]
  },
  {
   "cell_type": "code",
   "execution_count": 6,
   "metadata": {},
   "outputs": [],
   "source": [
    "# clustering = AgglomerativeClustering(n_clusters=None, linkage='complete', distance_threshold=0.3).fit(complement)\n",
    "\n",
    "# # Get cluster labels\n",
    "# cluster_labels = clustering.labels_\n",
    "# print(f'Num clusters: {clustering.n_clusters_}')\n",
    "\n",
    "# # Group authors based on cluster labels\n",
    "# clustered_authors = {}\n",
    "# for i, label in enumerate(cluster_labels):\n",
    "#     if label not in clustered_authors:\n",
    "#         clustered_authors[label] = []\n",
    "#     clustered_authors[label].append(authors.iloc[i])\n",
    "\n",
    "# # Print authors in each cluster\n",
    "# for cluster, authors_names in clustered_authors.items():\n",
    "#     print(f'Cluster {cluster}:')\n",
    "#     print(authors_names)"
   ]
  },
  {
   "cell_type": "code",
   "execution_count": 7,
   "metadata": {},
   "outputs": [],
   "source": [
    "# dclustering = DBSCAN(min_samples=1).fit(complement)\n",
    "# cosine_similarities = np.maximum(complement, 0)\n",
    "# dbscan = DBSCAN(eps=0.5, min_samples=2, metric='precomputed')\n",
    "# labels = dbscan.fit_predict(cosine_similarities)\n",
    "\n",
    "# # Print the cluster labels\n",
    "# print(\"Cluster labels:\", labels[:900])\n"
   ]
  },
  {
   "cell_type": "code",
   "execution_count": 8,
   "metadata": {},
   "outputs": [],
   "source": [
    "# Brute force approach: Group together all indices where cosine similarity is > 0.8\n",
    "# groups = {} \n",
    "# for i in range(len(cosine_similarities)):\n",
    "#     groups[i] = []\n",
    "\n",
    "# for i in range(len(cosine_similarities)):\n",
    "#     for j in range(i+1, len(cosine_similarities[0])):\n",
    "#         if cosine_similarities[i][j] > 0.8:\n",
    "#             groups[i].append(j)\n",
    "#             # groups[j].append(i)\n",
    "\n",
    "row_indices, col_indices = np.where(cosine_similarities > 0.8)\n",
    "\n",
    "groups = {}\n",
    "\n",
    "# Iterate over unique row indices\n",
    "for i in np.unique(row_indices):\n",
    "    # Find the column indices where cosine_similarities > 0.8 for this row\n",
    "    relevant_cols = col_indices[row_indices == i]\n",
    "    \n",
    "    # Store relevant column indices in groups\n",
    "    groups[i] = relevant_cols.tolist()"
   ]
  },
  {
   "cell_type": "code",
   "execution_count": 9,
   "metadata": {},
   "outputs": [],
   "source": [
    "graph = groups.copy()\n",
    "clusters = []\n",
    "visited = set()\n",
    "\n",
    "def dfs(v, curr_cluster):\n",
    "    visited.add(v)\n",
    "    curr_cluster.append(v)\n",
    "    for w in graph[v]:\n",
    "        if w not in visited:\n",
    "            dfs(w, curr_cluster)\n",
    "\n",
    "for node in graph:\n",
    "    if node not in visited:\n",
    "        cluster = []\n",
    "        dfs(node, cluster)\n",
    "        clusters.append(cluster)\n",
    "\n",
    "# print(clusters)"
   ]
  },
  {
   "cell_type": "code",
   "execution_count": 10,
   "metadata": {},
   "outputs": [],
   "source": [
    "with open('clusters.txt', 'w') as f:\n",
    "    for clus in clusters:\n",
    "        f.write('[')\n",
    "        for idx in clus:\n",
    "            f.write(f'{authors.iloc[idx]}; ')\n",
    "        f.write(']\\n\\n')"
   ]
  },
  {
   "cell_type": "code",
   "execution_count": 11,
   "metadata": {},
   "outputs": [
    {
     "name": "stdout",
     "output_type": "stream",
     "text": [
      "1877\n",
      "Number of unique values in 'isbn' column: 876\n"
     ]
    }
   ],
   "source": [
    "print(len(clusters))\n",
    "unique_values_count = df.iloc[:, 0].nunique()\n",
    "print(\"Number of unique values in 'isbn' column:\", unique_values_count)"
   ]
  },
  {
   "cell_type": "code",
   "execution_count": 12,
   "metadata": {},
   "outputs": [],
   "source": [
    "#### Testing phase ####\n",
    "# For now, set the golden entity to be the string with the longest length in the cluster\n",
    "df_cleaned = df.copy(deep=True)\n",
    "\n",
    "longest_authors = []\n",
    "\n",
    "for cluster in clusters:\n",
    "    cluster_strings = authors.iloc[cluster]\n",
    "    longest_author = max(cluster_strings, key=len)\n",
    "    longest_authors.append(longest_author)\n",
    "    # print(f'{cluster_strings}\\nLongest author: {longest_author}\\n#######################\\n')\n",
    "    for clust_idx in cluster:\n",
    "        df_cleaned.iloc[clust_idx, 3] = longest_author\n",
    "\n",
    "# Output DataFrame to a TSV file\n",
    "output_file = 'cleaned-book.tsv'\n",
    "df_cleaned.to_csv(output_file, sep='\\t', index=False)"
   ]
  },
  {
   "cell_type": "code",
   "execution_count": 13,
   "metadata": {},
   "outputs": [
    {
     "name": "stdout",
     "output_type": "stream",
     "text": [
      "1\n",
      "0023606924       4\n",
      "0080439977       5\n",
      "0120121484       3\n",
      "0120121506       3\n",
      "0120121514       3\n",
      "                ..\n",
      "9780078204616    2\n",
      "9780078216770    2\n",
      "9780078227813    2\n",
      "9780079136787    5\n",
      "9780335216369    2\n",
      "Name: 3, Length: 1263, dtype: int64\n"
     ]
    }
   ],
   "source": [
    "#### For each ISBN, count the number of unique authors ####\n",
    "result = df_cleaned.groupby(1)[3].nunique()\n",
    "print(result)\n",
    "result.to_csv('result.tsv', sep='\\t', index=True)\n"
   ]
  },
  {
   "cell_type": "code",
   "execution_count": 19,
   "metadata": {},
   "outputs": [
    {
     "name": "stdout",
     "output_type": "stream",
     "text": [
      "10\n"
     ]
    },
    {
     "data": {
      "image/png": "[encoded data removed]",
      "text/plain": [
       "<Figure size 640x480 with 1 Axes>"
      ]
     },
     "metadata": {},
     "output_type": "display_data"
    }
   ],
   "source": [
    "import matplotlib.pyplot as plt\n",
    "# print(result.iloc[1])\n",
    "print(result.max())\n",
    "n_bins = result.max()\n",
    "n, bins, patches = plt.hist(result, bins=n_bins, edgecolor='black')  # Adjust the number of bins as needed\n",
    "plt.xlabel('Values')\n",
    "plt.ylabel('Frequency')\n",
    "plt.title('Number of unique fields per cluster after grouping')\n",
    "# Calculate centers of each bin\n",
    "bin_centers = 0.5 * (bins[:-1] + bins[1:])\n",
    "# Set x-axis ticks to the calculated bin centers\n",
    "plt.xticks(bin_centers, range(1, n_bins+1))\n",
    "plt.show()"
   ]
  },
  {
   "cell_type": "code",
   "execution_count": 18,
   "metadata": {},
   "outputs": [
    {
     "name": "stdout",
     "output_type": "stream",
     "text": [
      "29\n"
     ]
    },
    {
     "data": {
      "image/png": "[encoded data removed]",
      "text/plain": [
       "<Figure size 1000x600 with 1 Axes>"
      ]
     },
     "metadata": {},
     "output_type": "display_data"
    }
   ],
   "source": [
    "old_df = df.groupby(1)[3].nunique()\n",
    "\n",
    "print(old_df.max())\n",
    "n_bins = old_df.max()\n",
    "plt.figure(figsize=(10, 6))\n",
    "n, bins, patches = plt.hist(old_df, bins=n_bins,edgecolor='black')  # Adjust the number of bins as needed\n",
    "plt.xlabel('Values')\n",
    "plt.ylabel('Frequency')\n",
    "plt.title('Number of unique fields per cluster before grouping')\n",
    "# Calculate centers of each bin\n",
    "bin_centers = 0.5 * (bins[:-1] + bins[1:])\n",
    "# Set x-axis ticks to the calculated bin centers\n",
    "plt.xticks(bin_centers, range(1, n_bins+1))\n",
    "plt.show()"
   ]
  },
  {
   "cell_type": "code",
   "execution_count": 35,
   "metadata": {},
   "outputs": [
    {
     "name": "stdout",
     "output_type": "stream",
     "text": [
      "Authors filtered length: 30115\n",
      "1\n",
      "0023606924       3\n",
      "0080439977       2\n",
      "0120121484       2\n",
      "0120121506       3\n",
      "0120121514       2\n",
      "                ..\n",
      "9780078204616    2\n",
      "9780078216770    1\n",
      "9780078227813    2\n",
      "9780079136787    2\n",
      "9780335216369    2\n",
      "Name: 3, Length: 1261, dtype: int64\n",
      "6\n"
     ]
    },
    {
     "data": {
      "image/png": "[encoded data removed]",
      "text/plain": [
       "<Figure size 640x480 with 1 Axes>"
      ]
     },
     "metadata": {},
     "output_type": "display_data"
    }
   ],
   "source": [
    "### Exploration: How well does this work in cases where there are\n",
    "### no fields where the author is just one name, or several authors\n",
    "### are abbreviated to et al?\n",
    "import re\n",
    "\n",
    "def remove_substrings(cell):\n",
    "    if isinstance(cell, str):\n",
    "        return re.sub(r'\\b(author|by|edited|editor)\\b', '', cell, flags=re.IGNORECASE)\n",
    "    else:\n",
    "        return cell\n",
    "\n",
    "#### Drop the relevant rows and recreate embeddings + cosine similarity matrix\n",
    "df = df.reset_index(drop=True)\n",
    "df_filtered = df[~((df.iloc[:, 3].str.split().str.len() == 1) | (df.iloc[:, 3].str.contains('et al|et. al')))]\n",
    "df_filtered.iloc[:,3] = df_filtered.iloc[:,3].apply(remove_substrings)\n",
    "authors = df_filtered.iloc[:, 3]\n",
    "\n",
    "print(f'Authors filtered length: {len(authors)}')\n",
    "\n",
    "# author_embeddings_filtered = [model.encode(author) for author in authors]\n",
    "author_embeddings_filtered = np.load('author_embeddings_filtered.npy')\n",
    "np.save('author_embeddings_filtered.npy', author_embeddings_filtered)\n",
    "\n",
    "cosine_similarities_filtered = cosine_similarity(author_embeddings_filtered)\n",
    "\n",
    "#### Cluster the similar authors\n",
    "row_indices_f, col_indices_f = np.where(cosine_similarities_filtered > 0.8)\n",
    "groups_f = {}\n",
    "# Iterate over unique row indices\n",
    "for i in np.unique(row_indices_f):\n",
    "    # Find the column indices where cosine_similarities > 0.8 for this row\n",
    "    relevant_cols_f = col_indices_f[row_indices_f == i]\n",
    "    \n",
    "    # Store relevant column indices in groups\n",
    "    groups_f[i] = relevant_cols_f.tolist()\n",
    "\n",
    "graph_f = groups_f.copy()\n",
    "clusters_f = []\n",
    "visited_f = set()\n",
    "\n",
    "def dfs_f(v, curr_cluster):\n",
    "    visited_f.add(v)\n",
    "    curr_cluster.append(v)\n",
    "    for w in graph_f[v]:\n",
    "        if w not in visited_f:\n",
    "            dfs_f(w, curr_cluster)\n",
    "\n",
    "for node_f in graph_f:\n",
    "    if node_f not in visited_f:\n",
    "        cluster_f = []\n",
    "        dfs_f(node_f, cluster_f)\n",
    "        clusters_f.append(cluster_f)\n",
    "\n",
    "\n",
    "#### Testing phase ####\n",
    "df_cleaned_f = df_filtered.copy(deep=True)\n",
    "\n",
    "longest_authors_f = []\n",
    "\n",
    "for cluster_f in clusters_f:\n",
    "    cluster_strings_f = authors.iloc[cluster_f]\n",
    "    longest_author_f = max(cluster_strings_f, key=len)\n",
    "    longest_authors_f.append(longest_author_f)\n",
    "    # print(f'{cluster_strings}\\nLongest author: {longest_author}\\n#######################\\n')\n",
    "    for clust_idx in cluster_f:\n",
    "        df_cleaned_f.iloc[clust_idx, 3] = longest_author_f\n",
    "\n",
    "# Output DataFrame to a TSV file\n",
    "output_file_f = 'cleaned-book-filtered.tsv'\n",
    "df_cleaned_f.to_csv(output_file_f, sep='\\t', index=False)\n",
    "\n",
    "#### For each ISBN, count the number of unique authors ####\n",
    "result_f = df_cleaned_f.groupby(1)[3].nunique()\n",
    "print(result_f)\n",
    "result_f.to_csv('result-filtered.tsv', sep='\\t', index=True)\n",
    "\n",
    "print(result_f.max())\n",
    "n_bins = result_f.max()\n",
    "n, bins, patches = plt.hist(result_f, bins=n_bins, edgecolor='black')  # Adjust the number of bins as needed\n",
    "plt.xlabel('Values')\n",
    "plt.ylabel('Frequency')\n",
    "plt.title('Number of unique fields per cluster after grouping (filtered dataset)')\n",
    "# Calculate centers of each bin\n",
    "bin_centers = 0.5 * (bins[:-1] + bins[1:])\n",
    "# Set x-axis ticks to the calculated bin centers\n",
    "plt.xticks(bin_centers, range(1, n_bins+1))\n",
    "plt.show()"
   ]
  },
  {
   "cell_type": "code",
   "execution_count": 17,
   "metadata": {},
   "outputs": [
    {
     "name": "stdout",
     "output_type": "stream",
     "text": [
      "1640\n",
      "1877\n"
     ]
    }
   ],
   "source": [
    "print(len(clusters_f))\n",
    "print(len(clusters))"
   ]
  },
  {
   "cell_type": "code",
   "execution_count": 26,
   "metadata": {},
   "outputs": [
    {
     "name": "stdout",
     "output_type": "stream",
     "text": [
      "2.0427553444180524\n",
      "2.0\n",
      "1.1895248060401993\n",
      "1.0\n",
      "3.0\n"
     ]
    }
   ],
   "source": [
    "print(result.mean())\n",
    "print(result.median())\n",
    "print(result.std())\n",
    "print(result.quantile(0.25))\n",
    "print(result.quantile(0.75))"
   ]
  },
  {
   "cell_type": "code",
   "execution_count": 25,
   "metadata": {},
   "outputs": [
    {
     "name": "stdout",
     "output_type": "stream",
     "text": [
      "8.80443388756928\n",
      "7.0\n",
      "5.103422857019719\n",
      "5.0\n",
      "12.0\n"
     ]
    }
   ],
   "source": [
    "print(old_df.mean())\n",
    "print(old_df.median())\n",
    "print(old_df.std())\n",
    "print(old_df.quantile(0.25))\n",
    "print(old_df.quantile(0.75))"
   ]
  },
  {
   "cell_type": "code",
   "execution_count": 36,
   "metadata": {},
   "outputs": [
    {
     "name": "stdout",
     "output_type": "stream",
     "text": [
      "1.6447264076130055\n",
      "1.0\n",
      "0.9062557851421786\n",
      "1.0\n",
      "2.0\n"
     ]
    }
   ],
   "source": [
    "print(result_f.mean())\n",
    "print(result_f.median())\n",
    "print(result_f.std())\n",
    "print(result_f.quantile(0.25))\n",
    "print(result_f.quantile(0.75))"
   ]
  }
 ],
 "metadata": {
  "kernelspec": {
   "display_name": "managedata",
   "language": "python",
   "name": "python3"
  },
  "language_info": {
   "codemirror_mode": {
    "name": "ipython",
    "version": 3
   },
   "file_extension": ".py",
   "mimetype": "text/x-python",
   "name": "python",
   "nbconvert_exporter": "python",
   "pygments_lexer": "ipython3",
   "version": "3.12.1"
  }
 },
 "nbformat": 4,
 "nbformat_minor": 2
}
